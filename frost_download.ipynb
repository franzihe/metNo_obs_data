{
 "cells": [
  {
   "cell_type": "markdown",
   "metadata": {},
   "source": [
    "# Download observational data from Frost\n",
    "\n",
    "[Frost](https://frost.met.no/index.html) is an API which gives access to MET Norway's archive of historical weather and climate data. \n",
    "\n",
    "## Get access\n",
    "- to access the API you need to [create a user](https://frost.met.no/auth/requestCredentials.html)\n",
    "\n",
    "## How to use Frost\n",
    "- [basic introduction](https://frost.met.no/howto.html) to help you learn to use Frost\n",
    "- [Examples](https://frost.met.no/examples2.html) of how to use Frost\n",
    "\n",
    "## How to find the variable?\n",
    "- [Browse weather elements](https://frost.met.no/elementtable)\n",
    "\n",
    "The following script is based on the [example](https://frost.met.no/python_example.html) provided by Frost documentation"
   ]
  },
  {
   "cell_type": "markdown",
   "metadata": {},
   "source": [
    "New client credentials have been successfully created for email address franziska.hellmuth@geo.uio.no. Your client ID is:"
   ]
  },
  {
   "cell_type": "code",
   "execution_count": 1,
   "metadata": {},
   "outputs": [],
   "source": [
    "client_id = 'd2e8db6e-9f6b-4cff-a337-3accf09bc8d8'"
   ]
  },
  {
   "cell_type": "code",
   "execution_count": 2,
   "metadata": {},
   "outputs": [],
   "source": [
    "# import packages\n",
    "import requests\n",
    "import pandas as pd\n",
    "import xarray as xr\n",
    "import numpy as np"
   ]
  },
  {
   "cell_type": "markdown",
   "metadata": {},
   "source": [
    "To find station information use the Norwegian Centre for Climate services: <https://seklima.met.no/stations/>\n",
    "\n",
    "## We will use Andøya airport\n",
    "\n",
    "- Municipality: Andøy\n",
    "- County: Nordland\n",
    "- Station number (id): SN87110\n",
    "- Height above mean sea level: 10 m\n",
    "- Latitude: 69.3073º N\n",
    "- Longitude: 16.1312º E\n",
    "- Operating period: 01.01.1958 - now\n",
    "- WMO number: 1010\n",
    "- WIGOS number: 0-20000-0-01010\n",
    "- Station holder: Met.no, Avinor"
   ]
  },
  {
   "cell_type": "code",
   "execution_count": 3,
   "metadata": {},
   "outputs": [],
   "source": [
    "station = 'SN87110'  # based on the information taken from seklima"
   ]
  },
  {
   "cell_type": "markdown",
   "metadata": {},
   "source": [
    "Define the variables to be downloaded after you [browsed weather elements](https://frost.met.no/elementtable)\n"
   ]
  },
  {
   "cell_type": "code",
   "execution_count": null,
   "metadata": {},
   "outputs": [],
   "source": []
  },
  {
   "cell_type": "code",
   "execution_count": null,
   "metadata": {},
   "outputs": [],
   "source": [
    "_xx = xr.open_dataset('/scratch/franzihe/output/Met-No_obs/SN87110/air_pressure_at_sea_level_202104.nc')"
   ]
  },
  {
   "cell_type": "code",
   "execution_count": 16,
   "metadata": {},
   "outputs": [],
   "source": [
    "elements = [\n",
    "    'air_temperature', \n",
    "    'wind_speed', \n",
    "    'wind_from_direction', \n",
    "    'air_pressure_at_sea_level', \n",
    "    'sum(precipitation_amount PT1H)',\n",
    "    # 'sum(precipitation_amount P1D)',      # error when downloading\n",
    "    # 'sum(precipitation_amount PT12H)',    # error when downloading\n",
    "    'cloud_area_fraction',\n",
    "    'cloud_area_fraction1',\n",
    "    'cloud_area_fraction2',\n",
    "    'cloud_area_fraction3',\n",
    "    'cloud_base_height1',\n",
    "    'cloud_base_height2',\n",
    "    'cloud_base_height3',\n",
    "\n",
    "    ]"
   ]
  },
  {
   "cell_type": "code",
   "execution_count": 17,
   "metadata": {},
   "outputs": [],
   "source": [
    "reference_time = [\n",
    "    '2021-03-01/2021-03-31', \n",
    "    '2021-04-01/2021-04-30'\n",
    "    ]   # start and end of data which shall be retrieved"
   ]
  },
  {
   "cell_type": "code",
   "execution_count": 18,
   "metadata": {},
   "outputs": [
    {
     "name": "stdout",
     "output_type": "stream",
     "text": [
      "air_temperature retrieved from frost.met.no!\n",
      "File saved: /scratch/franzihe/output/Met-No_obs/SN87110/air_temperature_202103.nc\n",
      "wind_speed retrieved from frost.met.no!\n",
      "File saved: /scratch/franzihe/output/Met-No_obs/SN87110/wind_speed_202103.nc\n",
      "wind_from_direction retrieved from frost.met.no!\n",
      "File saved: /scratch/franzihe/output/Met-No_obs/SN87110/wind_from_direction_202103.nc\n",
      "air_pressure_at_sea_level retrieved from frost.met.no!\n",
      "hourly data retrieved\n",
      "File saved: /scratch/franzihe/output/Met-No_obs/SN87110/air_pressure_at_sea_level_202103.nc\n",
      "sum(precipitation_amount PT1H) retrieved from frost.met.no!\n",
      "hourly data retrieved\n",
      "File saved: /scratch/franzihe/output/Met-No_obs/SN87110/sum(precipitation_amount PT1H)_202103.nc\n",
      "cloud_area_fraction retrieved from frost.met.no!\n",
      "File saved: /scratch/franzihe/output/Met-No_obs/SN87110/cloud_area_fraction_202103.nc\n",
      "cloud_area_fraction1 retrieved from frost.met.no!\n",
      "File saved: /scratch/franzihe/output/Met-No_obs/SN87110/cloud_area_fraction1_202103.nc\n",
      "cloud_area_fraction2 retrieved from frost.met.no!\n",
      "File saved: /scratch/franzihe/output/Met-No_obs/SN87110/cloud_area_fraction2_202103.nc\n",
      "cloud_area_fraction3 retrieved from frost.met.no!\n",
      "File saved: /scratch/franzihe/output/Met-No_obs/SN87110/cloud_area_fraction3_202103.nc\n",
      "cloud_base_height1 retrieved from frost.met.no!\n",
      "File saved: /scratch/franzihe/output/Met-No_obs/SN87110/cloud_base_height1_202103.nc\n",
      "cloud_base_height2 retrieved from frost.met.no!\n",
      "File saved: /scratch/franzihe/output/Met-No_obs/SN87110/cloud_base_height2_202103.nc\n",
      "cloud_base_height3 retrieved from frost.met.no!\n",
      "File saved: /scratch/franzihe/output/Met-No_obs/SN87110/cloud_base_height3_202103.nc\n",
      "air_temperature retrieved from frost.met.no!\n",
      "File saved: /scratch/franzihe/output/Met-No_obs/SN87110/air_temperature_202104.nc\n",
      "wind_speed retrieved from frost.met.no!\n",
      "File saved: /scratch/franzihe/output/Met-No_obs/SN87110/wind_speed_202104.nc\n",
      "wind_from_direction retrieved from frost.met.no!\n",
      "File saved: /scratch/franzihe/output/Met-No_obs/SN87110/wind_from_direction_202104.nc\n",
      "air_pressure_at_sea_level retrieved from frost.met.no!\n",
      "hourly data retrieved\n",
      "File saved: /scratch/franzihe/output/Met-No_obs/SN87110/air_pressure_at_sea_level_202104.nc\n",
      "sum(precipitation_amount PT1H) retrieved from frost.met.no!\n",
      "hourly data retrieved\n",
      "File saved: /scratch/franzihe/output/Met-No_obs/SN87110/sum(precipitation_amount PT1H)_202104.nc\n",
      "cloud_area_fraction retrieved from frost.met.no!\n",
      "File saved: /scratch/franzihe/output/Met-No_obs/SN87110/cloud_area_fraction_202104.nc\n",
      "cloud_area_fraction1 retrieved from frost.met.no!\n",
      "File saved: /scratch/franzihe/output/Met-No_obs/SN87110/cloud_area_fraction1_202104.nc\n",
      "cloud_area_fraction2 retrieved from frost.met.no!\n",
      "File saved: /scratch/franzihe/output/Met-No_obs/SN87110/cloud_area_fraction2_202104.nc\n",
      "cloud_area_fraction3 retrieved from frost.met.no!\n",
      "File saved: /scratch/franzihe/output/Met-No_obs/SN87110/cloud_area_fraction3_202104.nc\n",
      "cloud_base_height1 retrieved from frost.met.no!\n",
      "File saved: /scratch/franzihe/output/Met-No_obs/SN87110/cloud_base_height1_202104.nc\n",
      "cloud_base_height2 retrieved from frost.met.no!\n",
      "File saved: /scratch/franzihe/output/Met-No_obs/SN87110/cloud_base_height2_202104.nc\n",
      "cloud_base_height3 retrieved from frost.met.no!\n",
      "File saved: /scratch/franzihe/output/Met-No_obs/SN87110/cloud_base_height3_202104.nc\n"
     ]
    }
   ],
   "source": [
    "for ref_time in reference_time:\n",
    "\n",
    "    for var in elements:\n",
    "        \n",
    "        # retrieve data from Frost using the requests.get function.\n",
    "        # Define endpoint and parameters\n",
    "        endpoint = 'https://frost.met.no/observations/v0.jsonld'\n",
    "        parameters = {\n",
    "            'sources': station, \n",
    "            'elements': var,\n",
    "            'referencetime': ref_time,\n",
    "        }\n",
    "        # Issue an HTTP GET request\n",
    "        r = requests.get(endpoint, parameters, auth=(client_id,''))\n",
    "        # Extract JSON data\n",
    "        json = r.json()\n",
    "\n",
    "        # Check if the request worked, print out any errors\n",
    "        if r.status_code == 200:\n",
    "            data = json['data']\n",
    "            print('{} retrieved from frost.met.no!'.format(var))\n",
    "        else:\n",
    "            print('Error! Returned status code %s' % r.status_code)\n",
    "            print('Message: %s' % json['error']['message'])\n",
    "            print('Reason: %s' % json['error']['reason'])\n",
    "\n",
    "        # This will return a Dataframe with all of the observations in a table format\n",
    "        df = pd.DataFrame()\n",
    "        for i in range(len(data)):\n",
    "            row = pd.DataFrame(data[i]['observations'])\n",
    "            row['referenceTime'] = data[i]['referenceTime']\n",
    "            row['sourceId'] = data[i]['sourceId']\n",
    "            df = df.append(row)\n",
    "\n",
    "        df = df.reset_index()\n",
    "\n",
    "        \n",
    "# make a shorter and more readable table, you can use the code below.\n",
    "        # These additional columns will be kept\n",
    "        columns = ['sourceId','referenceTime','value','unit','timeOffset', 'timeResolution', 'level']\n",
    "        try: \n",
    "            df = df[columns].copy()\n",
    "        except KeyError:\n",
    "            columns = ['sourceId','referenceTime','value','unit','timeOffset', 'timeResolution',]\n",
    "            df = df[columns].copy()\n",
    "\n",
    "        # Convert the time value to something Python understands\n",
    "        df['referenceTime'] = pd.to_datetime(df['referenceTime'])\n",
    "        \n",
    "        if var == 'air_pressure_at_sea_level' or var == 'sum(precipitation_amount PT1H)':\n",
    "            print('hourly data retrieved')\n",
    "            df.drop(df[df['timeResolution'] != 'PT1H'].index, inplace=True)\n",
    "            df.drop(df[df['timeOffset'] != 'PT0H'].index, inplace = True)\n",
    "        elif var == 'cloud_area_fraction2' or var == 'cloud_area_fraction3':\n",
    "            df.drop(df[df['timeResolution'] != 'PT30M'].index, inplace=True)\n",
    "            df.drop(df[df['timeOffset'] != 'PT20M'].index, inplace = True)\n",
    "        else:\n",
    "            # select only 10-minute time resolution and timeOffset to be at 0H\n",
    "            df.drop(df[df['timeResolution'] != 'PT10M'].index, inplace=True)\n",
    "            df.drop(df[df['timeOffset'] != 'PT0H'].index, inplace = True)\n",
    "        # reset the index to start at zero\n",
    "        df.reset_index(drop=True, inplace = True)\n",
    "        # rename the columns (useful for later when we create the xarray)\n",
    "        df.rename(columns={'value':var, }, inplace=True)\n",
    "\n",
    "        \n",
    "\n",
    "        # create xarray DataArray and assign units\n",
    "        try:\n",
    "            dsx = df.to_xarray().drop_vars(['unit', 'timeOffset', 'timeResolution', 'level', 'sourceId'])\n",
    "        except ValueError:\n",
    "            dsx = df.to_xarray().drop_vars(['unit', 'timeOffset', 'timeResolution', 'sourceId'])\n",
    "            \n",
    "        attrs = {'units': ''}\n",
    "        dsx['referenceTime'].assign_attrs(attrs)\n",
    "\n",
    "        dsx['index'] = pd.to_datetime(dsx['referenceTime'].values)\n",
    "        \n",
    "        # rename index\n",
    "        dsx = dsx.rename({'index': 'time'})\n",
    "        # remove variable referenceTime\n",
    "        dsx = dsx.drop('referenceTime')\n",
    "        \n",
    "        dsx['time']  = pd.DatetimeIndex(dsx['time'].values)\n",
    "        \n",
    "        # assign attributes to variable\n",
    "        try:\n",
    "            dsx[var] = dsx[var].assign_attrs({'units': df['unit'][0], df['level'][0]['levelType'] : str(df['level'][0]['value']) + df['level'][0]['unit']})\n",
    "        except KeyError:\n",
    "            dsx[var] = dsx[var].assign_attrs({'units': df['unit'][0], })\n",
    "        # assign attributes to dataset\n",
    "        dsx = dsx.assign_attrs({\n",
    "            'Municipality': 'Andøy', \n",
    "            'County': 'Nordland',\n",
    "            'Height above mean sea level': '10 m',\n",
    "            'Station number (id)': 'SN87110',\n",
    "            'Latitude': 69.3073,\n",
    "            'Longitude': 16.1312,\n",
    "            'WMO number': 1010})\n",
    "\n",
    "        save_file = '/scratch/franzihe/output/Met-No_obs/{}/{}_{}{}.nc'.format(station, var, ref_time.split('-')[0], ref_time.split('-')[1])\n",
    "        dsx.to_netcdf(path = save_file)\n",
    "\n",
    "        print('File saved: {}'.format(save_file))\n",
    "\n"
   ]
  },
  {
   "cell_type": "code",
   "execution_count": null,
   "metadata": {},
   "outputs": [],
   "source": []
  }
 ],
 "metadata": {
  "interpreter": {
   "hash": "7f24944080b15318569c1ef785be98f8dd5a0531d3a23558ab9e7edab213d92e"
  },
  "kernelspec": {
   "display_name": "Python 3.9.7 64-bit ('globalsnow': conda)",
   "name": "python3"
  },
  "language_info": {
   "codemirror_mode": {
    "name": "ipython",
    "version": 3
   },
   "file_extension": ".py",
   "mimetype": "text/x-python",
   "name": "python",
   "nbconvert_exporter": "python",
   "pygments_lexer": "ipython3",
   "version": "3.8.12"
  },
  "orig_nbformat": 4
 },
 "nbformat": 4,
 "nbformat_minor": 2
}
